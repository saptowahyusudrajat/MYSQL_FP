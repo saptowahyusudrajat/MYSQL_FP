{
 "cells": [
  {
   "cell_type": "code",
   "execution_count": 4,
   "id": "0f3c0ea0-d387-46af-ab13-4e7cbf156fd2",
   "metadata": {},
   "outputs": [
    {
     "name": "stdout",
     "output_type": "stream",
     "text": [
      "Connected\n"
     ]
    }
   ],
   "source": [
    "import mysql.connector\n",
    "\n",
    "try:\n",
    "    conn = mysql.connector.connect(host='localhost',user='root',port=3307,password='inix2025')\n",
    "    print(\"Connected\")\n",
    "except:\n",
    "    print(\"Connection failed\")\n",
    "#conn.close()\n",
    "cursor = conn.cursor()"
   ]
  },
  {
   "cell_type": "code",
   "execution_count": 72,
   "id": "c7920502-84bc-424a-b99e-454143f5456a",
   "metadata": {},
   "outputs": [
    {
     "name": "stdout",
     "output_type": "stream",
     "text": [
      "Connection is open\n"
     ]
    }
   ],
   "source": [
    "# Check connection status\n",
    "if conn.is_connected():\n",
    "    print(\"Connection is open\")\n",
    "else:\n",
    "    print(\"Connection is closed\")"
   ]
  },
  {
   "cell_type": "code",
   "execution_count": 73,
   "id": "a5ce1cb0-424d-4929-af32-e2b99a7d1cce",
   "metadata": {},
   "outputs": [
    {
     "name": "stdout",
     "output_type": "stream",
     "text": [
      "8.0.43\n"
     ]
    }
   ],
   "source": [
    "cursor.execute(\"select version()\")\n",
    "print(cursor.fetchone()[0])"
   ]
  },
  {
   "cell_type": "code",
   "execution_count": 15,
   "id": "d100fab1-f229-4ac8-90e7-8b6c8809ffde",
   "metadata": {},
   "outputs": [],
   "source": [
    "import pandas as pd\n",
    "def tampil_data():\n",
    "    rows = cursor.fetchall()\n",
    "    columns = [col[0] for col in cursor.description]\n",
    "\n",
    "    df = pd.DataFrame(rows, columns=columns)\n",
    "    pd.set_option('display.max_columns', None)\n",
    "    return df"
   ]
  },
  {
   "cell_type": "code",
   "execution_count": 16,
   "id": "125a948e-f2fd-4af0-9949-f5e1c8b8765d",
   "metadata": {},
   "outputs": [
    {
     "data": {
      "text/html": [
       "<div>\n",
       "<style scoped>\n",
       "    .dataframe tbody tr th:only-of-type {\n",
       "        vertical-align: middle;\n",
       "    }\n",
       "\n",
       "    .dataframe tbody tr th {\n",
       "        vertical-align: top;\n",
       "    }\n",
       "\n",
       "    .dataframe thead th {\n",
       "        text-align: right;\n",
       "    }\n",
       "</style>\n",
       "<table border=\"1\" class=\"dataframe\">\n",
       "  <thead>\n",
       "    <tr style=\"text-align: right;\">\n",
       "      <th></th>\n",
       "      <th>user</th>\n",
       "      <th>Host</th>\n",
       "    </tr>\n",
       "  </thead>\n",
       "  <tbody>\n",
       "    <tr>\n",
       "      <th>0</th>\n",
       "      <td>sapto</td>\n",
       "      <td>%</td>\n",
       "    </tr>\n",
       "    <tr>\n",
       "      <th>1</th>\n",
       "      <td>badu</td>\n",
       "      <td>localhost</td>\n",
       "    </tr>\n",
       "    <tr>\n",
       "      <th>2</th>\n",
       "      <td>mysql.infoschema</td>\n",
       "      <td>localhost</td>\n",
       "    </tr>\n",
       "    <tr>\n",
       "      <th>3</th>\n",
       "      <td>mysql.session</td>\n",
       "      <td>localhost</td>\n",
       "    </tr>\n",
       "    <tr>\n",
       "      <th>4</th>\n",
       "      <td>mysql.sys</td>\n",
       "      <td>localhost</td>\n",
       "    </tr>\n",
       "    <tr>\n",
       "      <th>5</th>\n",
       "      <td>root</td>\n",
       "      <td>localhost</td>\n",
       "    </tr>\n",
       "    <tr>\n",
       "      <th>6</th>\n",
       "      <td>tanpa_pw</td>\n",
       "      <td>localhost</td>\n",
       "    </tr>\n",
       "  </tbody>\n",
       "</table>\n",
       "</div>"
      ],
      "text/plain": [
       "               user       Host\n",
       "0             sapto          %\n",
       "1              badu  localhost\n",
       "2  mysql.infoschema  localhost\n",
       "3     mysql.session  localhost\n",
       "4         mysql.sys  localhost\n",
       "5              root  localhost\n",
       "6          tanpa_pw  localhost"
      ]
     },
     "execution_count": 16,
     "metadata": {},
     "output_type": "execute_result"
    }
   ],
   "source": [
    "cursor.execute(\"select user, Host from mysql.user\")\n",
    "tampil_data()"
   ]
  },
  {
   "cell_type": "code",
   "execution_count": 17,
   "id": "9f39351d-771b-4450-94db-ee9a4ee70b6a",
   "metadata": {},
   "outputs": [
    {
     "data": {
      "text/html": [
       "<div>\n",
       "<style scoped>\n",
       "    .dataframe tbody tr th:only-of-type {\n",
       "        vertical-align: middle;\n",
       "    }\n",
       "\n",
       "    .dataframe tbody tr th {\n",
       "        vertical-align: top;\n",
       "    }\n",
       "\n",
       "    .dataframe thead th {\n",
       "        text-align: right;\n",
       "    }\n",
       "</style>\n",
       "<table border=\"1\" class=\"dataframe\">\n",
       "  <thead>\n",
       "    <tr style=\"text-align: right;\">\n",
       "      <th></th>\n",
       "      <th>user()</th>\n",
       "    </tr>\n",
       "  </thead>\n",
       "  <tbody>\n",
       "    <tr>\n",
       "      <th>0</th>\n",
       "      <td>root@localhost</td>\n",
       "    </tr>\n",
       "  </tbody>\n",
       "</table>\n",
       "</div>"
      ],
      "text/plain": [
       "           user()\n",
       "0  root@localhost"
      ]
     },
     "execution_count": 17,
     "metadata": {},
     "output_type": "execute_result"
    }
   ],
   "source": [
    "cursor.execute(\"select user()\")\n",
    "tampil_data()"
   ]
  },
  {
   "cell_type": "code",
   "execution_count": 21,
   "id": "6055097e-07ea-45c5-b3e9-d6d60203f438",
   "metadata": {},
   "outputs": [
    {
     "data": {
      "text/html": [
       "<div>\n",
       "<style scoped>\n",
       "    .dataframe tbody tr th:only-of-type {\n",
       "        vertical-align: middle;\n",
       "    }\n",
       "\n",
       "    .dataframe tbody tr th {\n",
       "        vertical-align: top;\n",
       "    }\n",
       "\n",
       "    .dataframe thead th {\n",
       "        text-align: right;\n",
       "    }\n",
       "</style>\n",
       "<table border=\"1\" class=\"dataframe\">\n",
       "  <thead>\n",
       "    <tr style=\"text-align: right;\">\n",
       "      <th></th>\n",
       "      <th>Database</th>\n",
       "    </tr>\n",
       "  </thead>\n",
       "  <tbody>\n",
       "    <tr>\n",
       "      <th>0</th>\n",
       "      <td>information_schema</td>\n",
       "    </tr>\n",
       "    <tr>\n",
       "      <th>1</th>\n",
       "      <td>inixindo_surabaya</td>\n",
       "    </tr>\n",
       "    <tr>\n",
       "      <th>2</th>\n",
       "      <td>mysql</td>\n",
       "    </tr>\n",
       "    <tr>\n",
       "      <th>3</th>\n",
       "      <td>performance_schema</td>\n",
       "    </tr>\n",
       "    <tr>\n",
       "      <th>4</th>\n",
       "      <td>sys</td>\n",
       "    </tr>\n",
       "  </tbody>\n",
       "</table>\n",
       "</div>"
      ],
      "text/plain": [
       "             Database\n",
       "0  information_schema\n",
       "1   inixindo_surabaya\n",
       "2               mysql\n",
       "3  performance_schema\n",
       "4                 sys"
      ]
     },
     "execution_count": 21,
     "metadata": {},
     "output_type": "execute_result"
    }
   ],
   "source": [
    "cursor.execute(\"show databases\")\n",
    "tampil_data()"
   ]
  },
  {
   "cell_type": "code",
   "execution_count": 23,
   "id": "557b6f2e-c52b-485b-a306-97cdc54ed69a",
   "metadata": {},
   "outputs": [
    {
     "data": {
      "text/html": [
       "<div>\n",
       "<style scoped>\n",
       "    .dataframe tbody tr th:only-of-type {\n",
       "        vertical-align: middle;\n",
       "    }\n",
       "\n",
       "    .dataframe tbody tr th {\n",
       "        vertical-align: top;\n",
       "    }\n",
       "\n",
       "    .dataframe thead th {\n",
       "        text-align: right;\n",
       "    }\n",
       "</style>\n",
       "<table border=\"1\" class=\"dataframe\">\n",
       "  <thead>\n",
       "    <tr style=\"text-align: right;\">\n",
       "      <th></th>\n",
       "      <th>database()</th>\n",
       "    </tr>\n",
       "  </thead>\n",
       "  <tbody>\n",
       "    <tr>\n",
       "      <th>0</th>\n",
       "      <td>None</td>\n",
       "    </tr>\n",
       "  </tbody>\n",
       "</table>\n",
       "</div>"
      ],
      "text/plain": [
       "  database()\n",
       "0       None"
      ]
     },
     "execution_count": 23,
     "metadata": {},
     "output_type": "execute_result"
    }
   ],
   "source": [
    "cursor.execute(\"select database()\")\n",
    "tampil_data()"
   ]
  },
  {
   "cell_type": "markdown",
   "id": "be454756-9737-4fd0-96cf-a091044e0ceb",
   "metadata": {},
   "source": [
    "## Belum ada schema/db yang terpilih. (Set default schema in workbench)"
   ]
  },
  {
   "cell_type": "code",
   "execution_count": 74,
   "id": "b4b6ba18-ed3d-40ef-81cd-e02f3d482dd0",
   "metadata": {},
   "outputs": [],
   "source": [
    "cursor.execute(\"use inixindo_surabaya\")"
   ]
  },
  {
   "cell_type": "code",
   "execution_count": 75,
   "id": "27ad2c0d-ed7f-429e-bcd7-6196b0aa2c33",
   "metadata": {},
   "outputs": [
    {
     "data": {
      "text/html": [
       "<div>\n",
       "<style scoped>\n",
       "    .dataframe tbody tr th:only-of-type {\n",
       "        vertical-align: middle;\n",
       "    }\n",
       "\n",
       "    .dataframe tbody tr th {\n",
       "        vertical-align: top;\n",
       "    }\n",
       "\n",
       "    .dataframe thead th {\n",
       "        text-align: right;\n",
       "    }\n",
       "</style>\n",
       "<table border=\"1\" class=\"dataframe\">\n",
       "  <thead>\n",
       "    <tr style=\"text-align: right;\">\n",
       "      <th></th>\n",
       "      <th>database()</th>\n",
       "    </tr>\n",
       "  </thead>\n",
       "  <tbody>\n",
       "    <tr>\n",
       "      <th>0</th>\n",
       "      <td>inixindo_surabaya</td>\n",
       "    </tr>\n",
       "  </tbody>\n",
       "</table>\n",
       "</div>"
      ],
      "text/plain": [
       "          database()\n",
       "0  inixindo_surabaya"
      ]
     },
     "execution_count": 75,
     "metadata": {},
     "output_type": "execute_result"
    }
   ],
   "source": [
    "cursor.execute(\"select database()\")\n",
    "tampil_data()"
   ]
  },
  {
   "cell_type": "markdown",
   "id": "73856d7b-b398-4ee9-bd14-51f216c33955",
   "metadata": {},
   "source": [
    "## Setelah use inixindo_surabaya, maka default schema menjadi **inixindo_surabaya**"
   ]
  },
  {
   "cell_type": "markdown",
   "id": "7c103439-3717-4cac-a59c-c9765fa43812",
   "metadata": {},
   "source": [
    "---\n",
    "---"
   ]
  },
  {
   "cell_type": "code",
   "execution_count": 27,
   "id": "5cd5c09e-5788-49e2-9c16-403038fe84d2",
   "metadata": {},
   "outputs": [],
   "source": [
    "cursor.execute(\"create table inventory (inventory_id INT, item_name VARCHAR(50), number_in_stock INT)\")"
   ]
  },
  {
   "cell_type": "code",
   "execution_count": 45,
   "id": "b03c34ef-0e64-4694-8c10-e1798b12b348",
   "metadata": {},
   "outputs": [
    {
     "data": {
      "text/html": [
       "<div>\n",
       "<style scoped>\n",
       "    .dataframe tbody tr th:only-of-type {\n",
       "        vertical-align: middle;\n",
       "    }\n",
       "\n",
       "    .dataframe tbody tr th {\n",
       "        vertical-align: top;\n",
       "    }\n",
       "\n",
       "    .dataframe thead th {\n",
       "        text-align: right;\n",
       "    }\n",
       "</style>\n",
       "<table border=\"1\" class=\"dataframe\">\n",
       "  <thead>\n",
       "    <tr style=\"text-align: right;\">\n",
       "      <th></th>\n",
       "      <th>Tables_in_inixindo_surabaya</th>\n",
       "    </tr>\n",
       "  </thead>\n",
       "  <tbody>\n",
       "    <tr>\n",
       "      <th>0</th>\n",
       "      <td>course_enrollment</td>\n",
       "    </tr>\n",
       "    <tr>\n",
       "      <th>1</th>\n",
       "      <td>courses</td>\n",
       "    </tr>\n",
       "    <tr>\n",
       "      <th>2</th>\n",
       "      <td>datatype_demo</td>\n",
       "    </tr>\n",
       "    <tr>\n",
       "      <th>3</th>\n",
       "      <td>inixindo_employee</td>\n",
       "    </tr>\n",
       "    <tr>\n",
       "      <th>4</th>\n",
       "      <td>inventory</td>\n",
       "    </tr>\n",
       "  </tbody>\n",
       "</table>\n",
       "</div>"
      ],
      "text/plain": [
       "  Tables_in_inixindo_surabaya\n",
       "0           course_enrollment\n",
       "1                     courses\n",
       "2               datatype_demo\n",
       "3           inixindo_employee\n",
       "4                   inventory"
      ]
     },
     "execution_count": 45,
     "metadata": {},
     "output_type": "execute_result"
    }
   ],
   "source": [
    "cursor.execute(\"show tables\")\n",
    "tampil_data()"
   ]
  },
  {
   "cell_type": "code",
   "execution_count": 62,
   "id": "56959ed1-b728-45df-858c-607767fb5bf8",
   "metadata": {},
   "outputs": [
    {
     "data": {
      "text/html": [
       "<div>\n",
       "<style scoped>\n",
       "    .dataframe tbody tr th:only-of-type {\n",
       "        vertical-align: middle;\n",
       "    }\n",
       "\n",
       "    .dataframe tbody tr th {\n",
       "        vertical-align: top;\n",
       "    }\n",
       "\n",
       "    .dataframe thead th {\n",
       "        text-align: right;\n",
       "    }\n",
       "</style>\n",
       "<table border=\"1\" class=\"dataframe\">\n",
       "  <thead>\n",
       "    <tr style=\"text-align: right;\">\n",
       "      <th></th>\n",
       "      <th>Field</th>\n",
       "      <th>Type</th>\n",
       "      <th>Null</th>\n",
       "      <th>Key</th>\n",
       "      <th>Default</th>\n",
       "      <th>Extra</th>\n",
       "    </tr>\n",
       "  </thead>\n",
       "  <tbody>\n",
       "    <tr>\n",
       "      <th>0</th>\n",
       "      <td>inventory_id</td>\n",
       "      <td>int</td>\n",
       "      <td>YES</td>\n",
       "      <td></td>\n",
       "      <td>None</td>\n",
       "      <td></td>\n",
       "    </tr>\n",
       "    <tr>\n",
       "      <th>1</th>\n",
       "      <td>item_name</td>\n",
       "      <td>varchar(50)</td>\n",
       "      <td>YES</td>\n",
       "      <td></td>\n",
       "      <td>None</td>\n",
       "      <td></td>\n",
       "    </tr>\n",
       "    <tr>\n",
       "      <th>2</th>\n",
       "      <td>number_in_stock</td>\n",
       "      <td>int</td>\n",
       "      <td>YES</td>\n",
       "      <td></td>\n",
       "      <td>None</td>\n",
       "      <td></td>\n",
       "    </tr>\n",
       "  </tbody>\n",
       "</table>\n",
       "</div>"
      ],
      "text/plain": [
       "             Field         Type Null Key Default Extra\n",
       "0     inventory_id          int  YES        None      \n",
       "1        item_name  varchar(50)  YES        None      \n",
       "2  number_in_stock          int  YES        None      "
      ]
     },
     "execution_count": 62,
     "metadata": {},
     "output_type": "execute_result"
    }
   ],
   "source": [
    "cursor.execute(\"describe inventory\")\n",
    "tampil_data()"
   ]
  },
  {
   "cell_type": "markdown",
   "id": "8ab3e0aa-5496-4b65-8939-686629ab5fb3",
   "metadata": {},
   "source": [
    "## INSERT using multirow format"
   ]
  },
  {
   "cell_type": "code",
   "execution_count": 47,
   "id": "7fdc3f26-8663-4e5b-9c3a-d201439f4e57",
   "metadata": {},
   "outputs": [],
   "source": [
    "cursor.execute(\"\"\"\n",
    "INSERT INTO inventory (inventory_id, item_name, number_in_stock) VALUES\n",
    "    (1, 'Keyboard', 25),\n",
    "    (2, 'Mouse', 40),\n",
    "    (3, 'Monitor', 15),\n",
    "    (4, 'USB Cable', 100),\n",
    "    (5, 'Headset', 20),\n",
    "    (6, 'Laptop Stand', 10),\n",
    "    (7, 'Webcam', 12),\n",
    "    (8, 'Charger', 35),\n",
    "    (9, 'SSD 512GB', 18),\n",
    "    (10, 'Router', 8)\n",
    "\"\"\")\n",
    "conn.commit()\n"
   ]
  },
  {
   "cell_type": "code",
   "execution_count": 48,
   "id": "7876ceb2-bdaa-48a2-a348-c01cc184f69a",
   "metadata": {},
   "outputs": [
    {
     "data": {
      "text/html": [
       "<div>\n",
       "<style scoped>\n",
       "    .dataframe tbody tr th:only-of-type {\n",
       "        vertical-align: middle;\n",
       "    }\n",
       "\n",
       "    .dataframe tbody tr th {\n",
       "        vertical-align: top;\n",
       "    }\n",
       "\n",
       "    .dataframe thead th {\n",
       "        text-align: right;\n",
       "    }\n",
       "</style>\n",
       "<table border=\"1\" class=\"dataframe\">\n",
       "  <thead>\n",
       "    <tr style=\"text-align: right;\">\n",
       "      <th></th>\n",
       "      <th>inventory_id</th>\n",
       "      <th>item_name</th>\n",
       "      <th>number_in_stock</th>\n",
       "    </tr>\n",
       "  </thead>\n",
       "  <tbody>\n",
       "    <tr>\n",
       "      <th>0</th>\n",
       "      <td>1</td>\n",
       "      <td>Keyboard</td>\n",
       "      <td>25</td>\n",
       "    </tr>\n",
       "    <tr>\n",
       "      <th>1</th>\n",
       "      <td>2</td>\n",
       "      <td>Mouse</td>\n",
       "      <td>40</td>\n",
       "    </tr>\n",
       "    <tr>\n",
       "      <th>2</th>\n",
       "      <td>3</td>\n",
       "      <td>Monitor</td>\n",
       "      <td>15</td>\n",
       "    </tr>\n",
       "    <tr>\n",
       "      <th>3</th>\n",
       "      <td>4</td>\n",
       "      <td>USB Cable</td>\n",
       "      <td>100</td>\n",
       "    </tr>\n",
       "    <tr>\n",
       "      <th>4</th>\n",
       "      <td>5</td>\n",
       "      <td>Headset</td>\n",
       "      <td>20</td>\n",
       "    </tr>\n",
       "    <tr>\n",
       "      <th>5</th>\n",
       "      <td>6</td>\n",
       "      <td>Laptop Stand</td>\n",
       "      <td>10</td>\n",
       "    </tr>\n",
       "    <tr>\n",
       "      <th>6</th>\n",
       "      <td>7</td>\n",
       "      <td>Webcam</td>\n",
       "      <td>12</td>\n",
       "    </tr>\n",
       "    <tr>\n",
       "      <th>7</th>\n",
       "      <td>8</td>\n",
       "      <td>Charger</td>\n",
       "      <td>35</td>\n",
       "    </tr>\n",
       "    <tr>\n",
       "      <th>8</th>\n",
       "      <td>9</td>\n",
       "      <td>SSD 512GB</td>\n",
       "      <td>18</td>\n",
       "    </tr>\n",
       "    <tr>\n",
       "      <th>9</th>\n",
       "      <td>10</td>\n",
       "      <td>Router</td>\n",
       "      <td>8</td>\n",
       "    </tr>\n",
       "  </tbody>\n",
       "</table>\n",
       "</div>"
      ],
      "text/plain": [
       "   inventory_id     item_name  number_in_stock\n",
       "0             1      Keyboard               25\n",
       "1             2         Mouse               40\n",
       "2             3       Monitor               15\n",
       "3             4     USB Cable              100\n",
       "4             5       Headset               20\n",
       "5             6  Laptop Stand               10\n",
       "6             7        Webcam               12\n",
       "7             8       Charger               35\n",
       "8             9     SSD 512GB               18\n",
       "9            10        Router                8"
      ]
     },
     "execution_count": 48,
     "metadata": {},
     "output_type": "execute_result"
    }
   ],
   "source": [
    "cursor.execute(\"select * from inventory\")\n",
    "tampil_data()"
   ]
  },
  {
   "cell_type": "markdown",
   "id": "f6030e1a-5466-4518-816e-7e087b5bb82e",
   "metadata": {},
   "source": [
    "## INSERT using batch insert"
   ]
  },
  {
   "cell_type": "code",
   "execution_count": 49,
   "id": "09aa910e-48f1-4ed4-9ff7-66847dcb2cb2",
   "metadata": {},
   "outputs": [],
   "source": [
    "data = [\n",
    "    (11, 'Microcontroller', 25),\n",
    "    (12, 'CCTV', 40),\n",
    "    (13, 'SSD 1000GB', 15)\n",
    "]\n",
    "\n",
    "cursor.executemany(\"INSERT INTO inventory (inventory_id, item_name, number_in_stock) VALUES (%s, %s, %s)\", data)\n",
    "conn.commit()\n"
   ]
  },
  {
   "cell_type": "code",
   "execution_count": 60,
   "id": "27dce6a3-b19b-409c-86f6-b3a6b52d3287",
   "metadata": {},
   "outputs": [
    {
     "data": {
      "text/html": [
       "<div>\n",
       "<style scoped>\n",
       "    .dataframe tbody tr th:only-of-type {\n",
       "        vertical-align: middle;\n",
       "    }\n",
       "\n",
       "    .dataframe tbody tr th {\n",
       "        vertical-align: top;\n",
       "    }\n",
       "\n",
       "    .dataframe thead th {\n",
       "        text-align: right;\n",
       "    }\n",
       "</style>\n",
       "<table border=\"1\" class=\"dataframe\">\n",
       "  <thead>\n",
       "    <tr style=\"text-align: right;\">\n",
       "      <th></th>\n",
       "      <th>inventory_id</th>\n",
       "      <th>item_name</th>\n",
       "      <th>number_in_stock</th>\n",
       "    </tr>\n",
       "  </thead>\n",
       "  <tbody>\n",
       "    <tr>\n",
       "      <th>0</th>\n",
       "      <td>1</td>\n",
       "      <td>Keyboard</td>\n",
       "      <td>25</td>\n",
       "    </tr>\n",
       "    <tr>\n",
       "      <th>1</th>\n",
       "      <td>2</td>\n",
       "      <td>Mouse</td>\n",
       "      <td>40</td>\n",
       "    </tr>\n",
       "    <tr>\n",
       "      <th>2</th>\n",
       "      <td>3</td>\n",
       "      <td>Monitor</td>\n",
       "      <td>15</td>\n",
       "    </tr>\n",
       "    <tr>\n",
       "      <th>3</th>\n",
       "      <td>4</td>\n",
       "      <td>USB Cable</td>\n",
       "      <td>100</td>\n",
       "    </tr>\n",
       "    <tr>\n",
       "      <th>4</th>\n",
       "      <td>5</td>\n",
       "      <td>Headset</td>\n",
       "      <td>20</td>\n",
       "    </tr>\n",
       "    <tr>\n",
       "      <th>5</th>\n",
       "      <td>6</td>\n",
       "      <td>Laptop Stand</td>\n",
       "      <td>10</td>\n",
       "    </tr>\n",
       "    <tr>\n",
       "      <th>6</th>\n",
       "      <td>7</td>\n",
       "      <td>Webcam</td>\n",
       "      <td>12</td>\n",
       "    </tr>\n",
       "    <tr>\n",
       "      <th>7</th>\n",
       "      <td>8</td>\n",
       "      <td>Charger</td>\n",
       "      <td>35</td>\n",
       "    </tr>\n",
       "    <tr>\n",
       "      <th>8</th>\n",
       "      <td>9</td>\n",
       "      <td>SSD 512GB</td>\n",
       "      <td>18</td>\n",
       "    </tr>\n",
       "    <tr>\n",
       "      <th>9</th>\n",
       "      <td>10</td>\n",
       "      <td>Router</td>\n",
       "      <td>8</td>\n",
       "    </tr>\n",
       "    <tr>\n",
       "      <th>10</th>\n",
       "      <td>11</td>\n",
       "      <td>Microcontroller</td>\n",
       "      <td>25</td>\n",
       "    </tr>\n",
       "    <tr>\n",
       "      <th>11</th>\n",
       "      <td>12</td>\n",
       "      <td>CCTV</td>\n",
       "      <td>40</td>\n",
       "    </tr>\n",
       "    <tr>\n",
       "      <th>12</th>\n",
       "      <td>13</td>\n",
       "      <td>SSD 1000GB</td>\n",
       "      <td>15</td>\n",
       "    </tr>\n",
       "  </tbody>\n",
       "</table>\n",
       "</div>"
      ],
      "text/plain": [
       "    inventory_id        item_name  number_in_stock\n",
       "0              1         Keyboard               25\n",
       "1              2            Mouse               40\n",
       "2              3          Monitor               15\n",
       "3              4        USB Cable              100\n",
       "4              5          Headset               20\n",
       "5              6     Laptop Stand               10\n",
       "6              7           Webcam               12\n",
       "7              8          Charger               35\n",
       "8              9        SSD 512GB               18\n",
       "9             10           Router                8\n",
       "10            11  Microcontroller               25\n",
       "11            12             CCTV               40\n",
       "12            13       SSD 1000GB               15"
      ]
     },
     "execution_count": 60,
     "metadata": {},
     "output_type": "execute_result"
    }
   ],
   "source": [
    "cursor.execute(\"select * from inventory\")\n",
    "tampil_data()"
   ]
  },
  {
   "cell_type": "code",
   "execution_count": 76,
   "id": "2ecb7b47-7850-44cd-ae62-c8aac1116a4e",
   "metadata": {},
   "outputs": [],
   "source": [
    "cursor.execute(\"ALTER TABLE inventory MODIFY COLUMN inventory_id INT NOT NULL\")"
   ]
  },
  {
   "cell_type": "code",
   "execution_count": 1,
   "id": "8c2564f7-0339-44bd-868e-a215b368dd5c",
   "metadata": {},
   "outputs": [
    {
     "name": "stdout",
     "output_type": "stream",
     "text": [
      "hallo\n"
     ]
    }
   ],
   "source": []
  },
  {
   "cell_type": "code",
   "execution_count": null,
   "id": "df172317-26b9-4e84-9403-1cde5589bb5e",
   "metadata": {},
   "outputs": [],
   "source": []
  }
 ],
 "metadata": {
  "kernelspec": {
   "display_name": "Python 3 (ipykernel)",
   "language": "python",
   "name": "python3"
  },
  "language_info": {
   "codemirror_mode": {
    "name": "ipython",
    "version": 3
   },
   "file_extension": ".py",
   "mimetype": "text/x-python",
   "name": "python",
   "nbconvert_exporter": "python",
   "pygments_lexer": "ipython3",
   "version": "3.10.11"
  }
 },
 "nbformat": 4,
 "nbformat_minor": 5
}
