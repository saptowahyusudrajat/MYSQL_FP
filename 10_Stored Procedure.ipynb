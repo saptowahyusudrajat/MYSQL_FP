{
 "cells": [
  {
   "cell_type": "code",
   "execution_count": 1,
   "id": "31ce6033-7718-4b8b-a3da-62038f98067a",
   "metadata": {},
   "outputs": [
    {
     "name": "stdout",
     "output_type": "stream",
     "text": [
      "Connected to MySQL!\n"
     ]
    }
   ],
   "source": [
    "import mysql.connector\n",
    "\n",
    "# Establish connection\n",
    "conn = mysql.connector.connect(\n",
    "    host=\"localhost\",\n",
    "    port=3307,\n",
    "    user=\"root\",\n",
    "    password=\"inix2025\"\n",
    ")\n",
    "\n",
    "cursor = conn.cursor()\n",
    "print(\"Connected to MySQL!\")"
   ]
  },
  {
   "cell_type": "markdown",
   "id": "21568a97-c175-42aa-97ab-d18d5dc7ed64",
   "metadata": {},
   "source": [
    "```sql\n",
    "DELIMITER //\n",
    "\n",
    "CREATE PROCEDURE AddStudent (\n",
    "    IN student_name VARCHAR(100),\n",
    "    IN student_age INT\n",
    ")\n",
    "BEGIN\n",
    "    INSERT INTO students (name, age)\n",
    "    VALUES (student_name, student_age);\n",
    "END //\n",
    "\n",
    "DELIMITER ;\n",
    "\n",
    "SHOW PROCEDURE STATUS;\n",
    "SELECT ROUTINE_NAME, ROUTINE_DEFINITION, ROUTINE_TYPE\n",
    "FROM information_schema.ROUTINES\n",
    "```"
   ]
  },
  {
   "cell_type": "code",
   "execution_count": 2,
   "id": "3baf71d8-77c0-4f8f-abb2-18942a5ad595",
   "metadata": {},
   "outputs": [
    {
     "name": "stdout",
     "output_type": "stream",
     "text": [
      "Database and table ready!\n"
     ]
    }
   ],
   "source": [
    "# Create and use a new database\n",
    "cursor.execute(\"CREATE DATABASE IF NOT EXISTS stored_procedure_lab\")\n",
    "cursor.execute(\"USE stored_procedure_lab\")\n",
    "\n",
    "# Create the students table\n",
    "cursor.execute(\"\"\"\n",
    "CREATE TABLE IF NOT EXISTS students (\n",
    "    id INT AUTO_INCREMENT PRIMARY KEY,\n",
    "    name VARCHAR(100),\n",
    "    age INT\n",
    ")\n",
    "\"\"\")\n",
    "conn.commit()\n",
    "print(\"Database and table ready!\")\n"
   ]
  },
  {
   "cell_type": "code",
   "execution_count": 7,
   "id": "9a400440-a6dc-4bc2-94da-73f7e9b62ef3",
   "metadata": {},
   "outputs": [],
   "source": [
    "cursor.execute(\"CALL AddStudent('Sapto', 29)\")"
   ]
  },
  {
   "cell_type": "code",
   "execution_count": 8,
   "id": "2f064281-4ba5-4c51-9b48-a9ff2208bb6e",
   "metadata": {},
   "outputs": [],
   "source": [
    "conn.commit()"
   ]
  },
  {
   "cell_type": "markdown",
   "id": "c40716f4-3e2b-4d0b-9e11-a013e55c3ac7",
   "metadata": {},
   "source": [
    "---"
   ]
  },
  {
   "cell_type": "markdown",
   "id": "cf6f3d73-3f87-4fe7-b9b1-6366c4ef28b5",
   "metadata": {},
   "source": [
    "```mysql\n",
    "DELIMITER //\n",
    "\n",
    "CREATE PROCEDURE AddStudent (\n",
    "    IN student_name VARCHAR(100),\n",
    "    IN student_age INT\n",
    ")\n",
    "BEGIN\n",
    "    INSERT INTO students (name, age)\n",
    "    VALUES (student_name, student_age);\n",
    "END //\n",
    "\n",
    "DELIMITER ;\n",
    "\n",
    "\n",
    "\n",
    "DELIMITER //\n",
    "\n",
    "CREATE PROCEDURE GetStudentCount(OUT total INT)\n",
    "BEGIN\n",
    "    SELECT COUNT(*) INTO total FROM students;\n",
    "END //\n",
    "\n",
    "DELIMITER ;\n",
    "\n",
    "\n",
    "CALL GetStudentCount(@count);\n",
    "SELECT @count;\n",
    "\n",
    "\n",
    "DELIMITER //\n",
    "\n",
    "CREATE PROCEDURE UpdateStudentAge(\n",
    "    IN student_name VARCHAR(100),\n",
    "    IN new_age INT\n",
    ")\n",
    "BEGIN\n",
    "    UPDATE students\n",
    "    SET age = new_age\n",
    "    WHERE name = student_name; -- error not primary key\n",
    "END // \n",
    "\n",
    "DELIMITER ;\n",
    "CALL UpdateStudentAge('Sapto', 20);\n",
    "\n",
    "\n",
    "DELIMITER //\n",
    "\n",
    "CREATE PROCEDURE UpdateStudentAgeById(\n",
    "    IN student_id INT,\n",
    "    IN new_age INT\n",
    ")\n",
    "BEGIN\n",
    "    UPDATE students\n",
    "    SET age = new_age\n",
    "    WHERE id = student_id;\n",
    "END //\n",
    "\n",
    "DELIMITER ;\n",
    "CALL UpdateStudentAgeById('1', 20);\n",
    "\n",
    "\n",
    "\n",
    "SHOW PROCEDURE STATUS;\n",
    "SELECT ROUTINE_NAME, ROUTINE_DEFINITION, ROUTINE_TYPE\n",
    "FROM information_schema.ROUTINES\n",
    "WHERE ROUTINE_SCHEMA = 'stored_procedure_lab';\n",
    "```\n"
   ]
  },
  {
   "cell_type": "code",
   "execution_count": null,
   "id": "c47d25a4-b7a2-4d11-90c0-b9caf79f39b1",
   "metadata": {},
   "outputs": [],
   "source": []
  }
 ],
 "metadata": {
  "kernelspec": {
   "display_name": "Python 3 (ipykernel)",
   "language": "python",
   "name": "python3"
  },
  "language_info": {
   "codemirror_mode": {
    "name": "ipython",
    "version": 3
   },
   "file_extension": ".py",
   "mimetype": "text/x-python",
   "name": "python",
   "nbconvert_exporter": "python",
   "pygments_lexer": "ipython3",
   "version": "3.10.11"
  }
 },
 "nbformat": 4,
 "nbformat_minor": 5
}
