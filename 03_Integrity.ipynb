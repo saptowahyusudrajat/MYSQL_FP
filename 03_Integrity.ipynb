{
 "cells": [
  {
   "cell_type": "code",
   "execution_count": 2,
   "id": "f455005d-7d5e-4bb6-ac4a-d4b9b74aded5",
   "metadata": {},
   "outputs": [
    {
     "name": "stdout",
     "output_type": "stream",
     "text": [
      "Connected\n"
     ]
    }
   ],
   "source": [
    "import mysql.connector\n",
    "\n",
    "try:\n",
    "    conn = mysql.connector.connect(host='localhost',user='root',port=3307,password='inix2025')\n",
    "    print(\"Connected\")\n",
    "except:\n",
    "    print(\"Connection failed\")\n",
    "#conn.close()\n",
    "cursor = conn.cursor()"
   ]
  },
  {
   "cell_type": "code",
   "execution_count": 16,
   "id": "31df14f0-1623-4ff8-a400-715cad22153e",
   "metadata": {},
   "outputs": [],
   "source": [
    "import pandas as pd\n",
    "def tampil_data():\n",
    "    rows = cursor.fetchall()\n",
    "    columns = [col[0] for col in cursor.description]\n",
    "\n",
    "    df = pd.DataFrame(rows, columns=columns)\n",
    "    pd.set_option('display.max_columns', None)\n",
    "    pd.set_option('display.max_colwidth', None)\n",
    "    return df"
   ]
  },
  {
   "cell_type": "code",
   "execution_count": 4,
   "id": "6991af40-e0d6-4796-b0ee-bda6849aff99",
   "metadata": {},
   "outputs": [],
   "source": [
    "cursor.execute(\"create database toko\")"
   ]
  },
  {
   "cell_type": "code",
   "execution_count": 5,
   "id": "27a7abf2-de47-4caa-9a27-6d92a09a8cdc",
   "metadata": {},
   "outputs": [],
   "source": [
    "cursor.execute(\"use toko\")"
   ]
  },
  {
   "cell_type": "code",
   "execution_count": 6,
   "id": "1daeeb0c-7bf4-439e-b261-5075cba747b3",
   "metadata": {},
   "outputs": [
    {
     "data": {
      "text/html": [
       "<div>\n",
       "<style scoped>\n",
       "    .dataframe tbody tr th:only-of-type {\n",
       "        vertical-align: middle;\n",
       "    }\n",
       "\n",
       "    .dataframe tbody tr th {\n",
       "        vertical-align: top;\n",
       "    }\n",
       "\n",
       "    .dataframe thead th {\n",
       "        text-align: right;\n",
       "    }\n",
       "</style>\n",
       "<table border=\"1\" class=\"dataframe\">\n",
       "  <thead>\n",
       "    <tr style=\"text-align: right;\">\n",
       "      <th></th>\n",
       "      <th>database()</th>\n",
       "    </tr>\n",
       "  </thead>\n",
       "  <tbody>\n",
       "    <tr>\n",
       "      <th>0</th>\n",
       "      <td>toko</td>\n",
       "    </tr>\n",
       "  </tbody>\n",
       "</table>\n",
       "</div>"
      ],
      "text/plain": [
       "  database()\n",
       "0       toko"
      ]
     },
     "execution_count": 6,
     "metadata": {},
     "output_type": "execute_result"
    }
   ],
   "source": [
    "cursor.execute(\"select database()\")\n",
    "tampil_data()"
   ]
  },
  {
   "cell_type": "markdown",
   "id": "026666d9-7379-4c9c-aabb-3e7de62f2fe1",
   "metadata": {},
   "source": [
    "# A. Integritas Entitas\n",
    "- Tujuan: Memastikan bahwa setiap baris dalam tabel dapat diidentifikasi secara unik.\n",
    "- Implementasi: **`PRIMARY KEY`**"
   ]
  },
  {
   "cell_type": "code",
   "execution_count": 7,
   "id": "9bb86efb-60dd-4413-a148-5f9d6c32db3d",
   "metadata": {},
   "outputs": [],
   "source": [
    "cursor.execute(\"\"\"\n",
    "CREATE TABLE pelanggan(\n",
    "  id INT PRIMARY KEY,\n",
    "  nama VARCHAR(50)\n",
    ")\n",
    "\"\"\")"
   ]
  },
  {
   "cell_type": "code",
   "execution_count": 8,
   "id": "b3a9c07d-32ac-4c0c-b6eb-9e4b447e7325",
   "metadata": {},
   "outputs": [
    {
     "data": {
      "text/html": [
       "<div>\n",
       "<style scoped>\n",
       "    .dataframe tbody tr th:only-of-type {\n",
       "        vertical-align: middle;\n",
       "    }\n",
       "\n",
       "    .dataframe tbody tr th {\n",
       "        vertical-align: top;\n",
       "    }\n",
       "\n",
       "    .dataframe thead th {\n",
       "        text-align: right;\n",
       "    }\n",
       "</style>\n",
       "<table border=\"1\" class=\"dataframe\">\n",
       "  <thead>\n",
       "    <tr style=\"text-align: right;\">\n",
       "      <th></th>\n",
       "      <th>Field</th>\n",
       "      <th>Type</th>\n",
       "      <th>Null</th>\n",
       "      <th>Key</th>\n",
       "      <th>Default</th>\n",
       "      <th>Extra</th>\n",
       "    </tr>\n",
       "  </thead>\n",
       "  <tbody>\n",
       "    <tr>\n",
       "      <th>0</th>\n",
       "      <td>id</td>\n",
       "      <td>int</td>\n",
       "      <td>NO</td>\n",
       "      <td>PRI</td>\n",
       "      <td>None</td>\n",
       "      <td></td>\n",
       "    </tr>\n",
       "    <tr>\n",
       "      <th>1</th>\n",
       "      <td>nama</td>\n",
       "      <td>varchar(50)</td>\n",
       "      <td>YES</td>\n",
       "      <td></td>\n",
       "      <td>None</td>\n",
       "      <td></td>\n",
       "    </tr>\n",
       "  </tbody>\n",
       "</table>\n",
       "</div>"
      ],
      "text/plain": [
       "  Field         Type Null  Key Default Extra\n",
       "0    id          int   NO  PRI    None      \n",
       "1  nama  varchar(50)  YES         None      "
      ]
     },
     "execution_count": 8,
     "metadata": {},
     "output_type": "execute_result"
    }
   ],
   "source": [
    "cursor.execute(\"describe pelanggan\")\n",
    "tampil_data()"
   ]
  },
  {
   "cell_type": "markdown",
   "id": "0e07051c-fefb-488b-bf9a-6d1a71ea950d",
   "metadata": {},
   "source": [
    "### Tidak boleh ada dua pelanggan dengan id yang sama, dan kolom id otomatis jadi **`NOT NULL`**.\n",
    "---"
   ]
  },
  {
   "cell_type": "markdown",
   "id": "f0bac733-1fd8-4b0c-832c-bab599b4d464",
   "metadata": {},
   "source": [
    "# B. Inetgriras Referensial\n",
    "- Tujuan: Menjaga konsistensi hubungan antar tabel (foreign key).\n",
    "- Implementasi: FOREIGN KEY"
   ]
  },
  {
   "cell_type": "code",
   "execution_count": 9,
   "id": "2ccede31-7544-4613-9842-cd66f746ba06",
   "metadata": {},
   "outputs": [],
   "source": [
    "cursor.execute(\"\"\" \n",
    "CREATE TABLE pesanan(\n",
    "  id INT PRIMARY KEY,\n",
    "  pelanggan_id INT,\n",
    "  FOREIGN KEY (pelanggan_id) REFERENCES pelanggan(id)\n",
    ")\n",
    "\"\"\")"
   ]
  },
  {
   "cell_type": "code",
   "execution_count": 18,
   "id": "0ee16d87-9aa0-4406-8618-eb30b567d703",
   "metadata": {},
   "outputs": [
    {
     "data": {
      "text/html": [
       "<div>\n",
       "<style scoped>\n",
       "    .dataframe tbody tr th:only-of-type {\n",
       "        vertical-align: middle;\n",
       "    }\n",
       "\n",
       "    .dataframe tbody tr th {\n",
       "        vertical-align: top;\n",
       "    }\n",
       "\n",
       "    .dataframe thead th {\n",
       "        text-align: right;\n",
       "    }\n",
       "</style>\n",
       "<table border=\"1\" class=\"dataframe\">\n",
       "  <thead>\n",
       "    <tr style=\"text-align: right;\">\n",
       "      <th></th>\n",
       "      <th>Field</th>\n",
       "      <th>Type</th>\n",
       "      <th>Null</th>\n",
       "      <th>Key</th>\n",
       "      <th>Default</th>\n",
       "      <th>Extra</th>\n",
       "    </tr>\n",
       "  </thead>\n",
       "  <tbody>\n",
       "    <tr>\n",
       "      <th>0</th>\n",
       "      <td>id</td>\n",
       "      <td>int</td>\n",
       "      <td>NO</td>\n",
       "      <td>PRI</td>\n",
       "      <td>None</td>\n",
       "      <td></td>\n",
       "    </tr>\n",
       "    <tr>\n",
       "      <th>1</th>\n",
       "      <td>pelanggan_id</td>\n",
       "      <td>int</td>\n",
       "      <td>YES</td>\n",
       "      <td>MUL</td>\n",
       "      <td>None</td>\n",
       "      <td></td>\n",
       "    </tr>\n",
       "  </tbody>\n",
       "</table>\n",
       "</div>"
      ],
      "text/plain": [
       "          Field Type Null  Key Default Extra\n",
       "0            id  int   NO  PRI    None      \n",
       "1  pelanggan_id  int  YES  MUL    None      "
      ]
     },
     "execution_count": 18,
     "metadata": {},
     "output_type": "execute_result"
    }
   ],
   "source": [
    "cursor.execute(\"describe pesanan\")\n",
    "tampil_data()"
   ]
  },
  {
   "cell_type": "code",
   "execution_count": 17,
   "id": "d1984445-f61a-46b9-846b-14166db750fb",
   "metadata": {},
   "outputs": [
    {
     "data": {
      "text/html": [
       "<div>\n",
       "<style scoped>\n",
       "    .dataframe tbody tr th:only-of-type {\n",
       "        vertical-align: middle;\n",
       "    }\n",
       "\n",
       "    .dataframe tbody tr th {\n",
       "        vertical-align: top;\n",
       "    }\n",
       "\n",
       "    .dataframe thead th {\n",
       "        text-align: right;\n",
       "    }\n",
       "</style>\n",
       "<table border=\"1\" class=\"dataframe\">\n",
       "  <thead>\n",
       "    <tr style=\"text-align: right;\">\n",
       "      <th></th>\n",
       "      <th>Table</th>\n",
       "      <th>Create Table</th>\n",
       "    </tr>\n",
       "  </thead>\n",
       "  <tbody>\n",
       "    <tr>\n",
       "      <th>0</th>\n",
       "      <td>pesanan</td>\n",
       "      <td>CREATE TABLE `pesanan` (\\n  `id` int NOT NULL,\\n  `pelanggan_id` int DEFAULT NULL,\\n  PRIMARY KEY (`id`),\\n  KEY `pelanggan_id` (`pelanggan_id`),\\n  CONSTRAINT `pesanan_ibfk_1` FOREIGN KEY (`pelanggan_id`) REFERENCES `pelanggan` (`id`)\\n) ENGINE=InnoDB DEFAULT CHARSET=utf8mb4 COLLATE=utf8mb4_0900_ai_ci</td>\n",
       "    </tr>\n",
       "  </tbody>\n",
       "</table>\n",
       "</div>"
      ],
      "text/plain": [
       "     Table  \\\n",
       "0  pesanan   \n",
       "\n",
       "                                                                                                                                                                                                                                                                                                      Create Table  \n",
       "0  CREATE TABLE `pesanan` (\\n  `id` int NOT NULL,\\n  `pelanggan_id` int DEFAULT NULL,\\n  PRIMARY KEY (`id`),\\n  KEY `pelanggan_id` (`pelanggan_id`),\\n  CONSTRAINT `pesanan_ibfk_1` FOREIGN KEY (`pelanggan_id`) REFERENCES `pelanggan` (`id`)\\n) ENGINE=InnoDB DEFAULT CHARSET=utf8mb4 COLLATE=utf8mb4_0900_ai_ci  "
      ]
     },
     "execution_count": 17,
     "metadata": {},
     "output_type": "execute_result"
    }
   ],
   "source": [
    "cursor.execute(\"SHOW CREATE TABLE pesanan\")\n",
    "tampil_data()"
   ]
  },
  {
   "cell_type": "markdown",
   "id": "187e4171-2abc-4ef2-b9cc-a3e7d0a24e26",
   "metadata": {},
   "source": [
    "### Tidak bisa membuat pesanan dengan pelanggan_id yang tidak ada di tabel pelanggan.\n",
    "---"
   ]
  },
  {
   "cell_type": "markdown",
   "id": "ad56ece7-b38c-4f88-80e6-3280cbec236c",
   "metadata": {},
   "source": [
    "# C. Integritas Domain (Validasi Nilai)\n",
    "- Tujuan: Memastikan bahwa data yang dimasukkan sesuai dengan tipe dan aturan nilai yang diperbolehkan.\n",
    "- Implementasi:\n",
    "```mysql\n",
    "NOT NULL\n",
    "UNIQUE\n",
    "CHECK\n",
    "ENUM\n",
    "SET\n",
    "DEFAULT\n",
    "```"
   ]
  },
  {
   "cell_type": "code",
   "execution_count": 19,
   "id": "d168036d-1b74-4fb1-b26d-8060bd2a78d0",
   "metadata": {},
   "outputs": [],
   "source": [
    "cursor.execute(\"\"\"\n",
    "CREATE TABLE produk (\n",
    "  id INT PRIMARY KEY,\n",
    "  nama VARCHAR(100) NOT NULL,\n",
    "  harga DECIMAL(10,2) CHECK (harga > 0),\n",
    "  kategori ENUM('Elektronik', 'Pakaian', 'Makanan'),\n",
    "  stok INT DEFAULT 0\n",
    ")\n",
    "\"\"\")"
   ]
  },
  {
   "cell_type": "code",
   "execution_count": 21,
   "id": "723122ff-9266-41b8-864e-c16db3b08a3d",
   "metadata": {},
   "outputs": [
    {
     "data": {
      "text/html": [
       "<div>\n",
       "<style scoped>\n",
       "    .dataframe tbody tr th:only-of-type {\n",
       "        vertical-align: middle;\n",
       "    }\n",
       "\n",
       "    .dataframe tbody tr th {\n",
       "        vertical-align: top;\n",
       "    }\n",
       "\n",
       "    .dataframe thead th {\n",
       "        text-align: right;\n",
       "    }\n",
       "</style>\n",
       "<table border=\"1\" class=\"dataframe\">\n",
       "  <thead>\n",
       "    <tr style=\"text-align: right;\">\n",
       "      <th></th>\n",
       "      <th>Field</th>\n",
       "      <th>Type</th>\n",
       "      <th>Null</th>\n",
       "      <th>Key</th>\n",
       "      <th>Default</th>\n",
       "      <th>Extra</th>\n",
       "    </tr>\n",
       "  </thead>\n",
       "  <tbody>\n",
       "    <tr>\n",
       "      <th>0</th>\n",
       "      <td>id</td>\n",
       "      <td>int</td>\n",
       "      <td>NO</td>\n",
       "      <td>PRI</td>\n",
       "      <td>None</td>\n",
       "      <td></td>\n",
       "    </tr>\n",
       "    <tr>\n",
       "      <th>1</th>\n",
       "      <td>nama</td>\n",
       "      <td>varchar(100)</td>\n",
       "      <td>NO</td>\n",
       "      <td></td>\n",
       "      <td>None</td>\n",
       "      <td></td>\n",
       "    </tr>\n",
       "    <tr>\n",
       "      <th>2</th>\n",
       "      <td>harga</td>\n",
       "      <td>decimal(10,2)</td>\n",
       "      <td>YES</td>\n",
       "      <td></td>\n",
       "      <td>None</td>\n",
       "      <td></td>\n",
       "    </tr>\n",
       "    <tr>\n",
       "      <th>3</th>\n",
       "      <td>kategori</td>\n",
       "      <td>enum('Elektronik','Pakaian','Makanan')</td>\n",
       "      <td>YES</td>\n",
       "      <td></td>\n",
       "      <td>None</td>\n",
       "      <td></td>\n",
       "    </tr>\n",
       "    <tr>\n",
       "      <th>4</th>\n",
       "      <td>stok</td>\n",
       "      <td>int</td>\n",
       "      <td>YES</td>\n",
       "      <td></td>\n",
       "      <td>0</td>\n",
       "      <td></td>\n",
       "    </tr>\n",
       "  </tbody>\n",
       "</table>\n",
       "</div>"
      ],
      "text/plain": [
       "      Field                                    Type Null  Key Default Extra\n",
       "0        id                                     int   NO  PRI    None      \n",
       "1      nama                            varchar(100)   NO         None      \n",
       "2     harga                           decimal(10,2)  YES         None      \n",
       "3  kategori  enum('Elektronik','Pakaian','Makanan')  YES         None      \n",
       "4      stok                                     int  YES            0      "
      ]
     },
     "execution_count": 21,
     "metadata": {},
     "output_type": "execute_result"
    }
   ],
   "source": [
    "cursor.execute(\"describe produk\")\n",
    "tampil_data()"
   ]
  },
  {
   "cell_type": "code",
   "execution_count": 23,
   "id": "0f75bea3-f79b-4d2f-84f3-e9b0c996051a",
   "metadata": {},
   "outputs": [
    {
     "data": {
      "text/html": [
       "<div>\n",
       "<style scoped>\n",
       "    .dataframe tbody tr th:only-of-type {\n",
       "        vertical-align: middle;\n",
       "    }\n",
       "\n",
       "    .dataframe tbody tr th {\n",
       "        vertical-align: top;\n",
       "    }\n",
       "\n",
       "    .dataframe thead th {\n",
       "        text-align: right;\n",
       "    }\n",
       "</style>\n",
       "<table border=\"1\" class=\"dataframe\">\n",
       "  <thead>\n",
       "    <tr style=\"text-align: right;\">\n",
       "      <th></th>\n",
       "      <th>Table</th>\n",
       "      <th>Create Table</th>\n",
       "    </tr>\n",
       "  </thead>\n",
       "  <tbody>\n",
       "    <tr>\n",
       "      <th>0</th>\n",
       "      <td>produk</td>\n",
       "      <td>CREATE TABLE `produk` (\\n  `id` int NOT NULL,\\n  `nama` varchar(100) NOT NULL,\\n  `harga` decimal(10,2) DEFAULT NULL,\\n  `kategori` enum('Elektronik','Pakaian','Makanan') DEFAULT NULL,\\n  `stok` int DEFAULT '0',\\n  PRIMARY KEY (`id`),\\n  CONSTRAINT `produk_chk_1` CHECK ((`harga` &gt; 0))\\n) ENGINE=InnoDB DEFAULT CHARSET=utf8mb4 COLLATE=utf8mb4_0900_ai_ci</td>\n",
       "    </tr>\n",
       "  </tbody>\n",
       "</table>\n",
       "</div>"
      ],
      "text/plain": [
       "    Table  \\\n",
       "0  produk   \n",
       "\n",
       "                                                                                                                                                                                                                                                                                                                                                        Create Table  \n",
       "0  CREATE TABLE `produk` (\\n  `id` int NOT NULL,\\n  `nama` varchar(100) NOT NULL,\\n  `harga` decimal(10,2) DEFAULT NULL,\\n  `kategori` enum('Elektronik','Pakaian','Makanan') DEFAULT NULL,\\n  `stok` int DEFAULT '0',\\n  PRIMARY KEY (`id`),\\n  CONSTRAINT `produk_chk_1` CHECK ((`harga` > 0))\\n) ENGINE=InnoDB DEFAULT CHARSET=utf8mb4 COLLATE=utf8mb4_0900_ai_ci  "
      ]
     },
     "execution_count": 23,
     "metadata": {},
     "output_type": "execute_result"
    }
   ],
   "source": [
    "cursor.execute(\"show create table produk\")\n",
    "tampil_data()"
   ]
  },
  {
   "cell_type": "markdown",
   "id": "272c20d2-ef84-4710-b828-9d024c0c6e2a",
   "metadata": {},
   "source": [
    "- **`NOT NULL`**: Nama produk wajib diisi.\n",
    "- **`CHECK`**: Harga harus lebih dari 0.\n",
    "- **`ENUM`**: Hanya kategori tertentu yang bisa dipilih.\n",
    "- **`DEFAULT`**: Jika stok tidak ditentukan, maka diset ke 0.\n",
    "---"
   ]
  },
  {
   "cell_type": "markdown",
   "id": "b78cda13-3c5f-44a9-bb44-d0821589871b",
   "metadata": {},
   "source": [
    "# D. Integrasi Unik\n",
    "- Tujuan: Mencegah duplikasi data pada kolom tertentu.\n",
    "- Implementasi: **`UNIQUE`**"
   ]
  },
  {
   "cell_type": "code",
   "execution_count": 24,
   "id": "1ab15577-f4fc-45ae-ba73-b0a82605f1be",
   "metadata": {},
   "outputs": [],
   "source": [
    "cursor.execute(\"\"\"\n",
    "CREATE TABLE pengguna (\n",
    "  id INT PRIMARY KEY,\n",
    "  email VARCHAR(100) UNIQUE\n",
    ");\n",
    "\"\"\")"
   ]
  },
  {
   "cell_type": "code",
   "execution_count": 25,
   "id": "543ad890-4a63-4aed-b424-3b878dedc90d",
   "metadata": {},
   "outputs": [
    {
     "data": {
      "text/html": [
       "<div>\n",
       "<style scoped>\n",
       "    .dataframe tbody tr th:only-of-type {\n",
       "        vertical-align: middle;\n",
       "    }\n",
       "\n",
       "    .dataframe tbody tr th {\n",
       "        vertical-align: top;\n",
       "    }\n",
       "\n",
       "    .dataframe thead th {\n",
       "        text-align: right;\n",
       "    }\n",
       "</style>\n",
       "<table border=\"1\" class=\"dataframe\">\n",
       "  <thead>\n",
       "    <tr style=\"text-align: right;\">\n",
       "      <th></th>\n",
       "      <th>Table</th>\n",
       "      <th>Create Table</th>\n",
       "    </tr>\n",
       "  </thead>\n",
       "  <tbody>\n",
       "    <tr>\n",
       "      <th>0</th>\n",
       "      <td>pengguna</td>\n",
       "      <td>CREATE TABLE `pengguna` (\\n  `id` int NOT NULL,\\n  `email` varchar(100) DEFAULT NULL,\\n  PRIMARY KEY (`id`),\\n  UNIQUE KEY `email` (`email`)\\n) ENGINE=InnoDB DEFAULT CHARSET=utf8mb4 COLLATE=utf8mb4_0900_ai_ci</td>\n",
       "    </tr>\n",
       "  </tbody>\n",
       "</table>\n",
       "</div>"
      ],
      "text/plain": [
       "      Table  \\\n",
       "0  pengguna   \n",
       "\n",
       "                                                                                                                                                                                                       Create Table  \n",
       "0  CREATE TABLE `pengguna` (\\n  `id` int NOT NULL,\\n  `email` varchar(100) DEFAULT NULL,\\n  PRIMARY KEY (`id`),\\n  UNIQUE KEY `email` (`email`)\\n) ENGINE=InnoDB DEFAULT CHARSET=utf8mb4 COLLATE=utf8mb4_0900_ai_ci  "
      ]
     },
     "execution_count": 25,
     "metadata": {},
     "output_type": "execute_result"
    }
   ],
   "source": [
    "cursor.execute(\"show create table pengguna\")\n",
    "tampil_data()"
   ]
  },
  {
   "cell_type": "code",
   "execution_count": 26,
   "id": "df063084-635e-448b-b7a1-94ac71df8c8e",
   "metadata": {},
   "outputs": [
    {
     "data": {
      "text/html": [
       "<div>\n",
       "<style scoped>\n",
       "    .dataframe tbody tr th:only-of-type {\n",
       "        vertical-align: middle;\n",
       "    }\n",
       "\n",
       "    .dataframe tbody tr th {\n",
       "        vertical-align: top;\n",
       "    }\n",
       "\n",
       "    .dataframe thead th {\n",
       "        text-align: right;\n",
       "    }\n",
       "</style>\n",
       "<table border=\"1\" class=\"dataframe\">\n",
       "  <thead>\n",
       "    <tr style=\"text-align: right;\">\n",
       "      <th></th>\n",
       "      <th>Field</th>\n",
       "      <th>Type</th>\n",
       "      <th>Null</th>\n",
       "      <th>Key</th>\n",
       "      <th>Default</th>\n",
       "      <th>Extra</th>\n",
       "    </tr>\n",
       "  </thead>\n",
       "  <tbody>\n",
       "    <tr>\n",
       "      <th>0</th>\n",
       "      <td>id</td>\n",
       "      <td>int</td>\n",
       "      <td>NO</td>\n",
       "      <td>PRI</td>\n",
       "      <td>None</td>\n",
       "      <td></td>\n",
       "    </tr>\n",
       "    <tr>\n",
       "      <th>1</th>\n",
       "      <td>email</td>\n",
       "      <td>varchar(100)</td>\n",
       "      <td>YES</td>\n",
       "      <td>UNI</td>\n",
       "      <td>None</td>\n",
       "      <td></td>\n",
       "    </tr>\n",
       "  </tbody>\n",
       "</table>\n",
       "</div>"
      ],
      "text/plain": [
       "   Field          Type Null  Key Default Extra\n",
       "0     id           int   NO  PRI    None      \n",
       "1  email  varchar(100)  YES  UNI    None      "
      ]
     },
     "execution_count": 26,
     "metadata": {},
     "output_type": "execute_result"
    }
   ],
   "source": [
    "cursor.execute(\"describe pengguna\")\n",
    "tampil_data()"
   ]
  },
  {
   "cell_type": "markdown",
   "id": "7a235f85-7139-42c0-a0a0-c97dea46ada1",
   "metadata": {},
   "source": [
    "## Tidak boleh ada dua pengguna dengan alamat email yang sama.\n",
    "---"
   ]
  },
  {
   "cell_type": "markdown",
   "id": "9a92f2f9-d2a3-491c-88b1-b0b48a01d8bb",
   "metadata": {},
   "source": [
    "# E. Skenario\n",
    "\n",
    "| Skenario                            | Tanpa Integritas | Dengan Integritas       |\n",
    "| ----------------------------------- | ---------------- | ----------------------- |\n",
    "| User menginput email dua kali       | Bisa duplikat    | Ditolak (`UNIQUE`)      |\n",
    "| Produk dengan harga minus           | Bisa disimpan    | Ditolak (`CHECK`)       |\n",
    "| Order dari pelanggan yang tidak ada | Bisa masuk       | Ditolak (`FOREIGN KEY`) |\n",
    "| Data penting kosong                 | Bisa kosong      | Ditolak (`NOT NULL`)    |\n",
    "\n",
    "- **Data valid**: tidak asal-asalan.\n",
    "- **Data konsisten**: antar tabel saling sinkron.\n",
    "- **Data unik**: tidak ganda untuk entitas penting.\n",
    "- **Data terhubung**: relasi antar tabel dijaga.\n"
   ]
  },
  {
   "cell_type": "code",
   "execution_count": null,
   "id": "cdac0040-26c0-4d27-b49f-c7741756464a",
   "metadata": {},
   "outputs": [],
   "source": []
  }
 ],
 "metadata": {
  "kernelspec": {
   "display_name": "Python 3 (ipykernel)",
   "language": "python",
   "name": "python3"
  },
  "language_info": {
   "codemirror_mode": {
    "name": "ipython",
    "version": 3
   },
   "file_extension": ".py",
   "mimetype": "text/x-python",
   "name": "python",
   "nbconvert_exporter": "python",
   "pygments_lexer": "ipython3",
   "version": "3.10.11"
  }
 },
 "nbformat": 4,
 "nbformat_minor": 5
}
